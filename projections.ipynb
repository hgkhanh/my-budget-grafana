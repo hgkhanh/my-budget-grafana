{
 "cells": [
  {
   "cell_type": "code",
   "execution_count": 1,
   "id": "46b31c16",
   "metadata": {},
   "outputs": [],
   "source": [
    "# Config\n",
    "CATEGORY_LIST = [\n",
    "    \"Rent & Utilities\",\n",
    "    \"Groceries\",\n",
    "    \"Shopping\",\n",
    "    \"Travel\",\n",
    "    \"Food & Drink\",\n",
    "    \"Entertainment\",\n",
    "    \"Furniture & Appliances\",\n",
    "    \"Work & Equipment\",\n",
    "    \"Service Bills & Fees\",\n",
    "    \"Transport\",\n",
    "    \"Family & Personal\",\n",
    "    \"Other\"\n",
    "]\n",
    "TYPE = \"Expense\""
   ]
  },
  {
   "cell_type": "code",
   "execution_count": 2,
   "id": "8fb4ccdc",
   "metadata": {},
   "outputs": [],
   "source": [
    "import os\n",
    "import psycopg2 as ps\n",
    "import pandas as pd\n",
    "from dotenv import load_dotenv\n",
    "load_dotenv() \n",
    "\n",
    "conn = ps.connect(\n",
    "    host=os.environ[\"db_host\"],\n",
    "    port=os.environ[\"db_port\"],\n",
    "    dbname=os.environ[\"db_name\"],\n",
    "    user=os.environ[\"db_user\"],\n",
    "    password=os.environ[\"db_password\"])"
   ]
  },
  {
   "cell_type": "code",
   "execution_count": 3,
   "id": "3e1dce86",
   "metadata": {},
   "outputs": [],
   "source": [
    "# SQL query to pandas datafram\n",
    "def postgresql_to_dataframe(conn, select_query, column_names):\n",
    "    \"\"\"\n",
    "    Tranform a SELECT query into a pandas dataframe\n",
    "    \"\"\"\n",
    "    cursor = conn.cursor()\n",
    "    try:\n",
    "        cursor.execute(select_query)\n",
    "    except (Exception, ps.DatabaseError) as error:\n",
    "        print(\"Error: %s\" % error)\n",
    "        cursor.close()\n",
    "        return 1\n",
    "    \n",
    "    # Naturally we get a list of tupples\n",
    "    tupples = cursor.fetchall()\n",
    "    cursor.close()\n",
    "    \n",
    "    # We just need to turn it into a pandas dataframe\n",
    "    df = pd.DataFrame(tupples, columns=column_names)\n",
    "    return df"
   ]
  },
  {
   "cell_type": "code",
   "execution_count": 4,
   "id": "af8a7f31",
   "metadata": {},
   "outputs": [],
   "source": [
    "# Return insert sql script as string\n",
    "import re\n",
    "\n",
    "def get_insert_query_from_df(df, dest_table):\n",
    "\n",
    "    insert = \"\"\"\n",
    "    INSERT INTO {dest_table} (\n",
    "        \"\"\".format(dest_table=dest_table)\n",
    "\n",
    "    columns_string = str(list(df.columns))[1:-1]\n",
    "    columns_string = re.sub(r' ', '\\n        ', columns_string)\n",
    "    columns_string = re.sub(r'\\'', '', columns_string)\n",
    "\n",
    "    values_string = ''\n",
    "\n",
    "    for row in df.itertuples(index=False,name=None):\n",
    "        values_string += re.sub(r'nan', 'null', str(row))\n",
    "        values_string += ',\\n'\n",
    "\n",
    "    return insert + columns_string + ')\\n     VALUES\\n' + values_string[:-2] + ';'"
   ]
  },
  {
   "cell_type": "code",
   "execution_count": 5,
   "id": "35020318",
   "metadata": {},
   "outputs": [],
   "source": [
    "# Query this year transactions into dataframe\n",
    "def create_dataframe_for_category(category):\n",
    "    column_names = [\"date\", \"total\"]\n",
    "    cursor = conn.cursor()\n",
    "    query = \"SELECT date, SUM(abs(amount)) OVER (ORDER BY date) as total FROM transactions WHERE type IN ('\" + TYPE + \"') AND date_part('year', date) = date_part('year', now()) AND category IN ('\" + category + \"') GROUP BY amount, date order BY date\"\n",
    "    df = postgresql_to_dataframe(conn, query, column_names)\n",
    "\n",
    "    df.tail(1)\n",
    "    total = df.tail(1)['total']\n",
    "\n",
    "\n",
    "    # Calculate number of day between last entry of expense and start of this year\n",
    "    from datetime import date\n",
    "\n",
    "    start_of_year_date = date(date.today().year, 1, 1)\n",
    "    end_of_year_date = date(date.today().year, 12, 31)\n",
    "\n",
    "    day_delta = (df.tail(1)['date'] - start_of_year_date).dt.days\n",
    "\n",
    "    # Calculate year end projections\n",
    "    day_in_year = (end_of_year_date - start_of_year_date).days\n",
    "    year_end_amount = round((total/day_delta) * day_in_year, 2).values[0]\n",
    "\n",
    "    # Create dataframe for projections\n",
    "    return pd.DataFrame({\n",
    "        \"date\": [start_of_year_date.isoformat(), end_of_year_date.isoformat()],\n",
    "        \"type\": [TYPE, TYPE],\n",
    "        \"category\": [category, category],\n",
    "        \"amount\": [0, year_end_amount]\n",
    "    })"
   ]
  },
  {
   "cell_type": "code",
   "execution_count": 6,
   "id": "c8211986",
   "metadata": {},
   "outputs": [],
   "source": [
    "# Create dataframe for projections\n",
    "df_projections = pd.DataFrame()\n",
    "for category in CATEGORY_LIST:\n",
    "    df_projections = pd.concat([df_projections, create_dataframe_for_category(category)])\n",
    "\n",
    "insert_sql = (get_insert_query_from_df(df_projections, 'projections'))\n",
    "file1 = open('./projections_insert.sql', 'w')\n",
    "file1.write(insert_sql)\n",
    "file1.close()"
   ]
  }
 ],
 "metadata": {
  "kernelspec": {
   "display_name": "Python 3 (ipykernel)",
   "language": "python",
   "name": "python3"
  },
  "language_info": {
   "codemirror_mode": {
    "name": "ipython",
    "version": 3
   },
   "file_extension": ".py",
   "mimetype": "text/x-python",
   "name": "python",
   "nbconvert_exporter": "python",
   "pygments_lexer": "ipython3",
   "version": "3.9.13"
  }
 },
 "nbformat": 4,
 "nbformat_minor": 5
}
