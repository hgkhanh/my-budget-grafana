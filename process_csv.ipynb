{
 "cells": [
  {
   "cell_type": "code",
   "execution_count": 1,
   "id": "49968047",
   "metadata": {},
   "outputs": [],
   "source": [
    "# Read csv file in './expors/FOLDER' into pandas dataframe\n",
    "# Process dataframe\n",
    "# Convert it into SQL insert and save to a file"
   ]
  },
  {
   "cell_type": "code",
   "execution_count": 2,
   "id": "fd6a0228",
   "metadata": {},
   "outputs": [],
   "source": [
    "# Config\n",
    "## Where to save the joined csv\n",
    "FOLDER = './exports/2024-08'\n",
    "## Tx from these wallet will be proccessed as shared tx (ammount = amount * SHARE_RATIO)\n",
    "SHARE_WALLETS = ['Shared Sparkasse', 'Revolut Joint']\n",
    "SHARE_RATIO = 0.533333\n",
    "## Transaction with this tag will be considered shared transaction too\n",
    "SHARED_TAG = 'Shared'\n",
    "OUTPUT_FILE = './2024-08.sql'"
   ]
  },
  {
   "cell_type": "code",
   "execution_count": 3,
   "id": "fe0bdd5e",
   "metadata": {},
   "outputs": [],
   "source": [
    "# util function to return insert sql script as string\n",
    "import re\n",
    "\n",
    "def get_insert_query_from_df(df, dest_table):\n",
    "\n",
    "    insert = \"\"\"\n",
    "    INSERT INTO {dest_table} (\n",
    "        \"\"\".format(dest_table=dest_table)\n",
    "\n",
    "    columns_string = str(list(df.columns))[1:-1]\n",
    "    columns_string = re.sub(r' ', '\\n        ', columns_string)\n",
    "    columns_string = re.sub(r'\\'', '', columns_string)\n",
    "\n",
    "    values_string = ''\n",
    "\n",
    "    for row in df.itertuples(index=False,name=None):\n",
    "        values_string += re.sub(r'nan', 'null', str(row))\n",
    "        values_string += ',\\n'\n",
    "\n",
    "    return insert + columns_string + ')\\n     VALUES\\n' + values_string[:-2] + ';'"
   ]
  },
  {
   "cell_type": "code",
   "execution_count": 4,
   "id": "3d0c6b4f",
   "metadata": {},
   "outputs": [],
   "source": [
    "# Read all csv file in folder\n",
    "import pandas as pd\n",
    "import glob\n",
    "import os\n",
    "\n",
    "# setting the path for joining multiple files\n",
    "files = os.path.join(FOLDER, '*.csv')\n",
    "\n",
    "# list of merged files returned\n",
    "files = glob.glob(files)\n",
    "\n",
    "# joining files with concat and read_csv\n",
    "df = pd.concat(map(pd.read_csv, files), ignore_index=True)"
   ]
  },
  {
   "cell_type": "code",
   "execution_count": 5,
   "id": "85c552d6",
   "metadata": {},
   "outputs": [],
   "source": [
    "# Copy amount to real_amount\n",
    "df['real_amount'] = df['Amount']"
   ]
  },
  {
   "cell_type": "code",
   "execution_count": 6,
   "id": "e57229ed",
   "metadata": {},
   "outputs": [],
   "source": [
    "# Scale down amount from real amount to account for shared expense\n",
    "# If is Shared wallet\n",
    "df.loc[df['Wallet'].isin(SHARE_WALLETS), 'Amount'] = round(df['real_amount']*SHARE_RATIO, 2)\n",
    "# If has shared tag\n",
    "df.loc[df['Labels'] == SHARED_TAG, 'Amount'] = round(df['real_amount']*SHARE_RATIO, 2)\n",
    "\n",
    "\n",
    "# Set as Incoming Transfer If is extra income (from Vic) in Sparkasse\n",
    "df.loc[(df['Wallet'].isin(SHARE_WALLETS)) & (df['Category name'] == 'Extra Income'), 'Type'] = 'Incoming Transfer'\n"
   ]
  },
  {
   "cell_type": "code",
   "execution_count": 7,
   "id": "ed8dae8f",
   "metadata": {},
   "outputs": [],
   "source": [
    "# Clean up column\n",
    "del df['Author']\n",
    "del df['Currency']\n",
    "df = df.rename(columns={\n",
    "    'Date': 'date',\n",
    "    'Wallet': 'wallet',\n",
    "    'Type': 'type',\n",
    "    'Category name': 'category',\n",
    "    'Amount': 'amount',\n",
    "    'Note': 'note',\n",
    "    'Labels': 'labels'\n",
    "})"
   ]
  },
  {
   "cell_type": "code",
   "execution_count": 8,
   "id": "837e8d67",
   "metadata": {},
   "outputs": [],
   "source": [
    "# Move columns\n",
    "df=df[[\"date\",\"wallet\",\"type\",\"category\", \"amount\", \"real_amount\", \"note\", \"labels\"]]"
   ]
  },
  {
   "cell_type": "code",
   "execution_count": 9,
   "id": "817595bd",
   "metadata": {},
   "outputs": [],
   "source": [
    "# Generate Insert script\n",
    "file1 = open(OUTPUT_FILE, 'w')\n",
    "file1.write(get_insert_query_from_df(df, 'transactions'))\n",
    "file1.close()"
   ]
  }
 ],
 "metadata": {
  "kernelspec": {
   "display_name": "Python 3 (ipykernel)",
   "language": "python",
   "name": "python3"
  },
  "language_info": {
   "codemirror_mode": {
    "name": "ipython",
    "version": 3
   },
   "file_extension": ".py",
   "mimetype": "text/x-python",
   "name": "python",
   "nbconvert_exporter": "python",
   "pygments_lexer": "ipython3",
   "version": "3.9.2"
  }
 },
 "nbformat": 4,
 "nbformat_minor": 5
}
